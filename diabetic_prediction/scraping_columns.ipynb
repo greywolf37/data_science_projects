{
 "cells": [
  {
   "cell_type": "code",
   "execution_count": 17,
   "metadata": {},
   "outputs": [],
   "source": [
    "import selenium\n",
    "from selenium import webdriver\n",
    "from selenium.webdriver.common.keys import Keys\n",
    "\n",
    "# To prevent accessing \n",
    "import time\n",
    "from selenium.webdriver.common.by import By\n",
    "from selenium.webdriver.support.ui import WebDriverWait\n",
    "from selenium.webdriver.support import expected_conditions as EC"
   ]
  },
  {
   "cell_type": "code",
   "execution_count": 18,
   "metadata": {},
   "outputs": [],
   "source": [
    "PATH = 'C:\\\\Program Files\\\\chromedriver.exe'\n",
    "driver = webdriver.Chrome(PATH)"
   ]
  },
  {
   "cell_type": "code",
   "execution_count": 40,
   "metadata": {},
   "outputs": [
    {
     "output_type": "execute_result",
     "data": {
      "text/plain": "{'SEQN': 'Respondent sequence number',\n 'SDDSRVYR': 'Data Release Number',\n 'RIDSTATR': 'Interview/Examination Status',\n 'RIAGENDR': 'Gender',\n 'RIDAGEYR': 'Age at Screening Adjudicated - Recode',\n 'RIDAGEMN': 'Age in Months - Recode',\n 'RIDRETH1': 'Race/Ethnicity - Recode',\n 'RIDRETH3': 'Race/Hispanic origin w/ NH Asian',\n 'RIDEXMON': 'Six month time period',\n 'RIDEXAGM': 'Age in months at exam - 0 to 19 years',\n 'DMQMILIZ': 'Served active duty in US Armed Forces',\n 'DMQADFC': 'Served in a foreign country',\n 'DMDBORN4': 'Country of birth',\n 'DMDCITZN': 'Citizenship Status',\n 'DMDYRSUS': 'Length of time in US',\n 'DMDEDUC3': 'Education Level - Children/Youth 6-19',\n 'DMDEDUC2': 'Education Level - Adults 20+',\n 'RIDEXPRG': 'Pregnancy Status at Exam - Recode',\n 'SIALANG': 'Language of SP Interview',\n 'SIAPROXY': 'Proxy used in SP Interview?',\n 'SIAINTRP': 'Interpreter used in SP Interview?',\n 'FIALANG': 'Language of Family Interview',\n 'FIAPROXY': 'Proxy used in Family Interview?',\n 'FIAINTRP': 'Interpreter used in Family Interview?',\n 'MIALANG': 'Language of MEC Interview',\n 'MIAPROXY': 'Proxy used in MEC Interview?',\n 'MIAINTRP': 'Interpreter used in MEC Interview?',\n 'AIALANGA': 'Language of ACASI Interview',\n 'DMDHHSIZ': 'Total number of people in the Household',\n 'DMDFMSIZ': 'Total number of people in the Family',\n 'DMDHHSZA': '# of children 5 years or younger in HH',\n 'DMDHHSZB': '# of children 6-17 years old in HH',\n 'DMDHHSZE': '# of adults 60 years or older in HH',\n 'DMDHRGND': 'HH Ref Person Gender',\n 'DMDHRAGE': 'HH Ref Person Age',\n 'DMDHRBR4': \"HH ref person's country of birth\",\n 'DMDHREDU': 'HH Ref Person Education Level',\n 'DMDHRMAR': 'HH Ref Person Marital Status',\n 'DMDHSEDU': \"HH Ref Person's Spouse Education Level\",\n 'WTINT2YR': 'Full Sample 2 Year Interview Weight',\n 'WTMEC2YR': 'Full Sample 2 Year MEC Exam Weight',\n 'SDMVPSU': 'Masked Variance Pseudo-PSU',\n 'SDMVSTRA': 'Masked Variance Pseudo-Stratum',\n 'INDHHIN2': 'Annual Household Income',\n 'INDFMIN2': 'Annual Family Income',\n 'INDFMPIR': 'Family PIR',\n 'URXUMA': 'Albumin, urine (ug/mL)',\n 'URXUMS': 'Albumin, urine (mg/L)'}"
     },
     "metadata": {},
     "execution_count": 40
    }
   ],
   "source": [
    "import ast\n",
    "with open('data\\\\list_of_names.txt', 'r') as f:\n",
    "    dic_of_new_columns = ast.literal_eval((str(f.read())))\n",
    "\n",
    "dic_of_new_columns"
   ]
  },
  {
   "cell_type": "code",
   "execution_count": 19,
   "metadata": {},
   "outputs": [],
   "source": [
    "driver.get('https://wwwn.cdc.gov/nchs/nhanes/search/default.aspx')"
   ]
  },
  {
   "cell_type": "code",
   "execution_count": 12,
   "metadata": {},
   "outputs": [
    {
     "output_type": "execute_result",
     "data": {
      "text/plain": "'NHANES Search Variables'"
     },
     "metadata": {},
     "execution_count": 12
    }
   ],
   "source": [
    "# RIDAGEMN\n",
    "\n",
    "driver.title\n"
   ]
  },
  {
   "cell_type": "code",
   "execution_count": 20,
   "metadata": {},
   "outputs": [],
   "source": [
    "search = driver.find_element_by_id('Keyword')\n",
    "search.send_keys('RIDAGEMN')\n",
    "search.send_keys(Keys.RETURN)"
   ]
  },
  {
   "cell_type": "code",
   "execution_count": null,
   "metadata": {},
   "outputs": [],
   "source": [
    "# try:\n",
    "#     table = WebDriverWait(driver, 10).until(EC.presence_of_element_located((By.ID, 'GridView1')))\n",
    "# except:\n",
    "#     driver.quit()"
   ]
  },
  {
   "cell_type": "code",
   "execution_count": 21,
   "metadata": {
    "tags": [
     "outputPrepend"
    ]
   },
   "outputs": [
    {
     "output_type": "stream",
     "name": "stdout",
     "text": "36c-1.51,2.27-3,4-5.63,4-1.76-.29-2.49-1.55-2.1-2.84l3.32-11a.52.52,0,0,0-.3-.64c-.25-.08-.73.23-1.14.69l-2,2.42a10.92,10.92,0,0,1,0-1.35c1.51-2.27,4-4.05,5.67-4.05A2.26,2.26,0,0,1,23,17.48L19.67,28.54a.52.52,0,0,0,.31.58c.25.08.76-.23,1.18-.69l2-2.42A10.84,10.84,0,0,1,23.14,27.41ZM22.69,13a2.23,2.23,0,0,1-2.3-2.29,2.3,2.3,0,0,1,4.6,0A2.23,2.23,0,0,1,22.69,13Z\" class=\"fr-evenodd\"></path>\n\t</symbol>\n\n\t<!-- external link icon -->\n\t<symbol id=\"ext\" viewBox=\"0 0 40 40\">\n\t\t<polygon points=\"36 17.97 36 36 4 36 4 4 22.03 4 22.03 1 1 1 1 39 39 39 39 17.97 36 17.97\"></polygon>\n\t\t<polygon points=\"39 1 26.27 1 31 5.73 17.52 19.21 20.8 22.48 34.27 9 39 13.73 39 1\"></polygon>\n\t</symbol>\n\n\t<!-- Video Play Icon -->\n\t<symbol id=\"play-circle\" viewBox=\"0 0 24 24\">\n\t\t<path class=\"fill-w\" d=\"M12 20.016c4.406 0 8.016-3.609 8.016-8.016s-3.609-8.016-8.016-8.016-8.016 3.609-8.016 8.016 3.609 8.016 8.016 8.016zM12 2.016c5.531 0 9.984 4.453 9.984 9.984s-4.453 9.984-9.984 9.984-9.984-4.453-9.984-9.984 4.453-9.984 9.984-9.984zM9.984 16.5v-9l6 4.5z\"></path>\n\t</symbol>\n\n\t<!-- View Larger Icon -->\n\t<symbol id=\"view-larger\" viewBox=\"0 0 40 40\">\n\t\t<path class=\"fill-gray\" d=\"M38.48,1H27.62a.4.4,0,0,0-.37.25.38.38,0,0,0,.09.43l3.25,3.25-9,9a.4.4,0,0,0,0,.56l3.8,3.8a.43.43,0,0,0,.28.11.41.41,0,0,0,.28-.11l9-9,3.25,3.25a.38.38,0,0,0,.43.09.4.4,0,0,0,.25-.37V1.4A.4.4,0,0,0,38.48,1Z\"></path>\n\t\t<path class=\"fill-gray\" d=\"M9.49,4.93l3.25-3.25a.38.38,0,0,0,.09-.43A.4.4,0,0,0,12.46,1H1.6a.4.4,0,0,0-.4.4V12.26a.4.4,0,0,0,.25.37.38.38,0,0,0,.43-.09L5.13,9.29l9,9a.41.41,0,0,0,.28.11.43.43,0,0,0,.28-.11l3.8-3.8a.4.4,0,0,0,0-.56Z\"></path>\n\t\t<path class=\"fill-gray\" d=\"M14.67,21.73a.4.4,0,0,0-.56,0l-9,9L1.88,27.46a.38.38,0,0,0-.43-.09.4.4,0,0,0-.25.37V38.6a.4.4,0,0,0,.4.4H12.46a.4.4,0,0,0,.37-.25.38.38,0,0,0-.09-.43L9.49,35.07l9-9a.4.4,0,0,0,0-.56Z\"></path>\n\t\t<path class=\"fill-gray\" d=\"M38.63,27.37a.38.38,0,0,0-.43.09L35,30.71l-9-9a.4.4,0,0,0-.56,0l-3.8,3.8a.4.4,0,0,0,0,.56l9,9-3.25,3.25a.38.38,0,0,0-.09.43.4.4,0,0,0,.37.25H38.48a.4.4,0,0,0,.4-.4V27.74A.4.4,0,0,0,38.63,27.37Z\"></path>\n\t</symbol>\n\n\t<!-- download image -->\n\t<symbol id=\"download-image\" viewBox=\"0 0 40 40\">\n\t\t<path class=\"fill-gray\" d=\"M36.59,26.5l-1.37,7.35H4.77L3.4,26.5H0V38.18H40V26.5Zm-.87-13h-10V9.21H14.29v4.24H4.36L19.94,30Zm-10-11.53H14.29V3.47H25.71Zm0,2.88H14.29v3H25.71Z\"></path>\n\t</symbol>\n\n</svg>\n<svg style=\"display:none\" xmlns=\"http://www.w3.org/2000/svg\" xmlns:xlink=\"http://www.w3.org/1999/xlink\">\n\t<!-- file types -->\n    <symbol id=\"powerpoint\" viewBox=\"0 0 40 40\">\n        <path class=\"fill-ppt-1\" d=\"M21,1.5h2.45V5.39c4.61,0,9.23,0,13.84,0A1.5,1.5,0,0,1,39,7.08c.07,8.06,0,16.13,0,24.2a5.07,5.07,0,0,1-.41,2.61,3.88,3.88,0,0,1-2.19.43c-4.32,0-8.63,0-13,0v4.32H20.76C14.18,37.43,7.59,36.33,1,35.17Q1,20.07,1,5C7.66,3.81,14.32,2.64,21,1.5Z\"></path>\n        <path class=\"fill-ppt-2\" d=\"M23.44,6.68H37.69V33H23.44V29.56H33.8V27.83H23.44V25.68H33.8V23.95H23.45c0-.85,0-1.69,0-2.54a6.06,6.06,0,0,0,5.18-.51,5.91,5.91,0,0,0,2.66-4.71c-1.9,0-3.79,0-5.68,0,0-1.88,0-3.76,0-5.63L23.44,11Z\"></path>\n        <path class=\"fill-ppt-1\" d=\"M26.47,9.65a6.07,6.07,0,0,1,5.68,5.66c-1.9,0-3.79,0-5.69,0C26.46,13.42,26.46,11.53,26.47,9.65Z\"></path>\n        <path class=\"fill-ppt-2\" d=\"M7.93,12.91c2.34.11,5.18-.93,7.13.83,1.86,2.26,1.37,6.41-1.39,7.76a6.37,6.37,0,0,1-3.17.4q0,2.53,0,5.06l-2.57-.22C7.88,22.13,7.87,17.52,7.93,12.91Z\"></path>\n        <path class=\"fill-ppt-1\" d=\"M10.49,15.24c.85,0,1.9-.19,2.48.6A3.13,3.13,0,0,1,13,18.68c-.49.89-1.61.8-2.47.91C10.47,18.14,10.48,16.69,10.49,15.24Z\"></path>\n    </symbol>\n    <symbol id=\"pdf\" viewBox=\"0 0 40 40\">\n\t\t<path class=\"fill-pdf-1\" d=\"M32.52,1H1.45V38.68h38V7.42Z\"></path>\n\t\t<polygon class=\"fill-op-2\" points=\"39.38 7.49 32.96 7.49 32.52 1.06 39.38 7.49\"></polygon>\n\t\t<path class=\"fill-pdf-2\" d=\"M16.28,23C17,21.57,17.84,20,18.5,18.33h0l.26-.64c-.86-3.3-1.38-6-.92-7.67h0A1.19,1.19,0,0,1,19,9.31h.4c.75,0,1.11.95,1.15,1.33h0a6,6,0,0,1-.22,1.68h0a4.1,4.1,0,0,0-.25-1.71h0c-.32-.69-.62-1.1-.88-1.17h0a.85.85,0,0,0-.32.64h0a9.59,9.59,0,0,0-.12,1.47h0a16.43,16.43,0,0,0,.68,4.28h0c.08-.24.16-.48.22-.7h0l.68-2.65h0s-.15,3.07-.36,4h0c0,.2-.09.39-.14.59h0a13.5,13.5,0,0,0,3.36,5.25h0a10.46,10.46,0,0,0,1.94,1.34h0a26.93,26.93,0,0,1,3.95-.3h0a5,5,0,0,1,3,.68h0a1.2,1.2,0,0,1,.33.76h0a2.6,2.6,0,0,1-.06.44h0c0-.08,0-.47-1.19-.86h0a14,14,0,0,0-4.84-.06h0c2.46,1.2,4.85,1.79,5.61,1.44h0a1.69,1.69,0,0,0,.41-.4h0a3.92,3.92,0,0,1-.23.76h0a1.2,1.2,0,0,1-.59.4h0c-1.2.32-4.31-.42-7-2h0a57.18,57.18,0,0,0-9,2.15h0c-2.63,4.6-4.6,6.71-6.21,5.91h0l-.59-.3a.69.69,0,0,1-.22-.74h0c.19-.92,1.34-2.3,3.65-3.67h0c.24-.16,1.35-.74,1.35-.74h0s-.82.79-1,1h0c-1.84,1.51-3.2,3.41-3.17,4.14h0v.07c1.56-.23,3.91-3.41,6.93-9.31m.95.49c-.5,1-1,1.83-1.45,2.63h0a38.68,38.68,0,0,1,7.8-2.2h0c-.35-.24-.68-.5-1-.76h0a13.42,13.42,0,0,1-3.29-4.28h0a35.21,35.21,0,0,1-2.06,4.61\"></path>\n\t</symbol>\n    <symbol id=\"zip\" viewBox=\"0 0 40 40\">\n\t\t<path class=\"fill-zip-1\" d=\"M32.17,1.09H1V38.77H39V7.44Z\"></path>\n\t\t<polygon class=\"fill-zip-2\" points=\"39 7.47 32.6 7.47 32.17 1.09 39 7.47\"></polygon>\n\t\t<rect class=\"fill-zip-3\" height=\"13.48\" width=\"0.56\" x=\"17.75\" y=\"1.09\"></rect>\n\t\t<rect class=\"fill-zip-3\" height=\"13.48\" width=\"0.56\" x=\"21.69\" y=\"1.09\"></rect>\n\t\t<rect class=\"fill-zip-3\" height=\"1.69\" width=\"1.78\" x=\"18.22\" y=\"1.09\"></rect>\n\t\t<rect class=\"fill-zip-3\" height=\"1.69\" width=\"1.78\" x=\"20\" y=\"2.77\"></rect>\n\t\t<rect class=\"fill-zip-3\" height=\"1.69\" width=\"1.78\" x=\"18.22\" y=\"4.46\"></rect>\n\t\t<rect class=\"fill-zip-3\" height=\"1.69\" width=\"1.78\" x=\"20\" y=\"6.15\"></rect>\n\t\t<rect class=\"fill-zip-3\" height=\"1.69\" width=\"1.78\" x=\"18.22\" y=\"7.83\"></rect>\n\t\t<rect class=\"fill-zip-3\" height=\"1.69\" width=\"1.78\" x=\"20\" y=\"9.52\"></rect>\n\t\t<rect class=\"fill-zip-3\" height=\"1.69\" width=\"1.78\" x=\"18.22\" y=\"11.19\"></rect>\n\t\t<rect class=\"fill-zip-3\" height=\"1.69\" width=\"1.78\" x=\"20\" y=\"12.87\"></rect>\n\t\t<path class=\"fill-zip-3\" d=\"M22.53,14.56H17.47a1,1,0,0,0-1,1V18.4a1,1,0,0,0,1,1h.84V16.51h3.38v2.85h.84a1,1,0,0,0,1-1V15.53A1,1,0,0,0,22.53,14.56Z\"></path>\n\t\t<rect class=\"fill-zip-3\" height=\"7.2\" width=\"1.97\" x=\"19.02\" y=\"17.56\"></rect>\n\t\t<path class=\"fill-zip-3\" d=\"M22.32,22.67h-.63v4.19H18.31V22.67h-.63a1.14,1.14,0,0,0-1.13,1.14V35a1.13,1.13,0,0,0,1.13,1.13h4.64A1.13,1.13,0,0,0,23.45,35V23.81A1.14,1.14,0,0,0,22.32,22.67Zm-.63,11.38H18.31V31h3.38Z\"></path>\n    </symbol>\n    <symbol id=\"word\" viewBox=\"0 0 40 40\">\n        <path class=\"word-fill-1\" d=\"M20.86,1.5h2.58V5c4.62,0,9.23,0,13.85,0A1.49,1.49,0,0,1,39,6.63c.07,8.5,0,17,0,25.52a5,5,0,0,1-.42,2.61,3.93,3.93,0,0,1-2.18.43c-4.32,0-8.64,0-13,0v3.45h-2.7C14.17,37.43,7.59,36.32,1,35.17Q1,20.07,1,5C7.62,3.81,14.24,2.68,20.86,1.5Z\"></path>\n        <path class=\"word-fill-2\" d=\"M23.44,6.25H37.69V33.88H23.44V30.42H34.67V28.7H23.44V26.54H34.67V24.81H23.44V22.65H34.67V20.93H23.44V18.77H34.67V17H23.44V14.88H34.67V13.16H23.44V11H34.67V9.27H23.44Z\"></path>\n        <path class=\"word-fill-2\" d=\"M9.92,13.88l2.46-.13c.57,2.91,1.16,5.82,1.78,8.72.49-3,1-6,1.55-9,.86,0,1.73-.08,2.59-.13-1,4.18-1.83,8.4-2.9,12.56-.72.38-1.8,0-2.65,0-.57-2.86-1.24-5.7-1.76-8.57-.5,2.79-1.16,5.55-1.74,8.32l-2.5-.15C6,21.78,5.2,18,4.53,14.2l2.22-.09c.44,2.75.95,5.49,1.34,8.24C8.69,19.52,9.32,16.7,9.92,13.88Z\"></path>\n    </symbol>\n    <symbol id=\"txt\" viewBox=\"0 0 40 40\">\n\t\t<path class=\"fill-txt-1\" d=\"M32.1,1.09H.67v38H39V7.5Z\"></path>\n\t\t<polygon class=\"fill-txt-2\" points=\"39 7.47 32.6 7.47 32.1 1.09 39 7.47\"></polygon>\n\t\t<path class=\"fill-txt-3\" d=\"M33.78,30.22h.92a2.13,2.13,0,0,0,2.13-2.13V17.27a2.13,2.13,0,0,0-2.13-2.13H5.3a2.13,2.13,0,0,0-2.13,2.13V28.09A2.13,2.13,0,0,0,5.3,30.22H33.78Z\"></path>\n\t\t<polygon class=\"fill-txt-4\" points=\"9.47 19.4 9.47 17.74 15.96 17.74 15.96 19.4 13.54 19.4 13.54 27.53 11.9 27.53 11.9 19.4 9.47 19.4\"></polygon>\n\t\t<polygon class=\"fill-txt-4\" points=\"16.45 17.74 18.38 17.74 20.02 20.89 21.62 17.74 23.53 17.74 20.99 22.5 23.78 27.53 21.79 27.53 19.98 24.15 18.17 27.53 16.19 27.53 18.98 22.43 16.45 17.74\"></polygon>\n\t\t<polygon class=\"fill-txt-4\" points=\"24.04 19.4 24.04 17.74 30.53 17.74 30.53 19.4 28.11 19.4 28.11 27.53 26.46 27.53 26.46 19.4 24.04 19.4\"></polygon>\n    </symbol>\n    <symbol id=\"media\" viewBox=\"0 0 40 40\">\n        <circle class=\"media-fill-1\" cx=\"20\" cy=\"20\" r=\"19\"></circle>\n        <circle class=\"media-fill-2\" cx=\"20\" cy=\"20\" r=\"15\"></circle>\n        <polygon class=\"media-fill-3\" points=\"28.96 20 15.04 12.5 15.04 27.5 28.96 20\"></polygon>\n    </symbol>\n\n\t<symbol id=\"presentation_01\" viewBox=\"0 0 40 40\">\n\t\t<path d=\"M35,5.21H5A1.29,1.29,0,1,1,5,2.63h13.7V1.34a1.3,1.3,0,0,1,2.6,0V2.63H35a1.29,1.29,0,1,1,0,2.58Zm0,20.64H5V6.5H35ZM9,15.57a5.2,5.2,0,0,0,10.4,0h-5.2V10.4A5.19,5.19,0,0,0,9,15.57Zm14.33-5.2H22v1.29h1.3Zm0,2.58H22v1.29h1.3Zm0,2.58H22v1.29h1.3Zm0,2.58H22V19.4h1.3Zm0,2.58H22V22h1.3Zm7.78-10.32H24.58v1.29h6.48Zm0,2.58H24.58v1.29h6.48Zm0,2.58H24.58v1.29h6.48Zm0,2.58H24.58V19.4h6.48Zm0,2.58H24.58V22h6.48ZM16.46,32.31h2.93V25.85h1.3v6.45h2.88l-2.88-6.45h2.6l5.18,11.61H25.88L24.15,33.6H20.69V40h-1.3V33.6H15.88l-1.76,3.87H11.53L16.8,25.85h2.59Zm4.22-6.45Zm-1.3,0Z\" class=\"fill-a\"></path>\n\t</symbol>\n\n\t\n\n\n    <symbol id=\"excel\" viewBox=\"0 0 40 40\">\n        <path class=\"fill-excel-1\" d=\"M20.87,1.5h2.56V5c4.32,0,8.64,0,13,0a4,4,0,0,1,2.17.41A4,4,0,0,1,39,7.54Q39,18.78,39,30a19.69,19.69,0,0,1-.15,3.78c-.17.9-1.25.92-2,.95-4.47,0-8.95,0-13.43,0v3.89H20.76C14.18,37.43,7.59,36.32,1,35.17V5C7.63,3.81,14.25,2.67,20.87,1.5Z\"></path>\n        <path class=\"fill-excel-2\" d=\"M23.44,6.25H37.68v27.2H23.44V30.85h3.45v-3H23.44V26.11h3.45v-3H23.44V21.36h3.45v-3H23.44V16.61h3.45v-3H23.44V11.86h3.45v-3H23.44Z\"></path>\n        <path class=\"fill-excel-1\" d=\"M28.62,8.84h6v3h-6Z\"></path>\n        <path class=\"fill-excel-2\" d=\"M13.79,12.88q1.46-.1,2.94-.18Q15,16.25,13.24,19.78c1.19,2.42,2.4,4.82,3.59,7.23l-3.12-.2a51,51,0,0,1-2.15-5.42c-.59,1.75-1.42,3.41-2.1,5.12-.95,0-1.89-.05-2.84-.09,1.11-2.17,2.18-4.36,3.32-6.52-1-2.22-2-4.4-3-6.61l2.85-.16c.64,1.69,1.35,3.35,1.88,5.08C12.21,16.38,13.06,14.66,13.79,12.88Z\"></path>\n        <path class=\"fill-excel-1\" d=\"M28.62,13.59h6v3h-6Z\"></path>\n        <path class=\"fill-excel-1\" d=\"M28.62,18.34h6v3h-6Z\"></path>\n        <path class=\"fill-excel-1\" d=\"M28.62,23.08h6v3h-6Z\"></path>\n        <path class=\"fill-excel-1\" d=\"M28.62,27.83h6v3h-6Z\"></path>\n    </symbol>\n    <symbol id=\"epub\" viewBox=\"0 0 40 40\">\n\t\t<path class=\"fill-epub-1\" d=\"M32.64,1H1.45V38.68h38V7.36Z\"></path>\n\t\t<polygon class=\"fill-epub-2\" points=\"39.47 7.39 33.07 7.39 32.64 1 39.47 7.39\"></polygon>\n\t\t<path class=\"fill-epub-3\" d=\"M20,27.23,12.77,20,20,12.77l2.41,2.41L17.59,20,20,22.41l7.23-7.23-6.3-6.29a1.3,1.3,0,0,0-1.86,0L8.89,19.07a1.3,1.3,0,0,0,0,1.86L19.07,31.11a1.3,1.3,0,0,0,1.86,0L31.11,20.93a1.3,1.3,0,0,0,0-1.86l-1.47-1.48Z\"></path>\n\t</symbol>\n\t<symbol id=\"imgft\" viewBox=\"0 0 40 40\">\n\t\t<path class=\"fill-svgimgfile\" d=\"M32.58,1H1.39V38.68h38V7.36Z\"></path>\n\t\t<polygon class=\"fill-op-2\" points=\"39.41 7.39 33.01 7.39 32.58 1 39.41 7.39\"></polygon>\n\t\t<path class=\"fill-w\" d=\"M8.52,15.32a4,4,0,1,1,4,4A4,4,0,0,1,8.52,15.32ZM33.27,33.25H7.73V29.18l4.79-4.07,3.19,2.71,9.58-8.14,8,6.78Z\"></path>\n\t</symbol>\n</svg>\n\n\n<script>\n\t$(document).ready(function() {\n\t\tCDC.Search.init();\n\t});\n</script>\n<!-- JS Added Dynamically Here --> <!-- Begin SSI: localBodyBottom_TP4 - URL: ://wcms-wp.cdc.gov/nchs/wcms-inc/localLeftNav_TP4.html -->\n<!-- End SSI: localBodyBottom_TP4 -->\n<script>\n\ts.pageName = document.title;\n\ts.channel = \"NCHS\";\n</script>\n\n<script>\n\twindow.shortTitle = \"About the National Health and Nutrition Examination Survey\";\n\twindow.pageOptions = window.pageOptions || {};\n\twindow.pageOptions.navigation =\n\t\twindow.pageOptions.navigation || { fourthLevelCollapsed: false, showFourthLevel: true };\n\twindow.pageOptions.navigation.breadcrumbs = {\n\t\tmode: 'auto',\n\t\tshowCurrentPage: false,\n\t\tprefix: [\n\t\t\t{\n\t\t\t\ttext: 'CDC',\n\t\t\t\thref: 'https://www.cdc.gov/'\n\t\t\t}, {\n\t\t\t\ttext: 'NCHS',\n\t\t\t\thref: 'https://www.cdc.gov/nchs/index.htm'\n\t\t\t}\n\t\t]\n\t};\n\twindow.CDC.tp4.public.appInit(window.pageOptions);\n</script>\n<script src=\"https://www.cdc.gov/JScript/foresee/foresee-surveydef.js?build=7\" type=\"text/javascript\"></script>\n<!-- It is expected that any page level javascript to be added to the Custom Javascript content section on the page implementing the master page. -->\n<script src=\"/NCHS/nhanes/scripts/local.js\"></script>\n<script src=\"/NCHS/nhanes/scripts/prismjs.js\"></script>\n<script async=\"\" src=\"https://cdnjs.cloudflare.com/ajax/libs/mathjax/2.7.5/MathJax.js?config=TeX-AMS_CHTML\" type=\"text/javascript\"></script>\n\n\n<!-- End Survey scripts -->\n\n\n<script type=\"text/javascript\">\n//<![CDATA[\nSys.Application.add_init(function() {\n    $create(Sys.UI._UpdateProgress, {\"associatedUpdatePanelId\":null,\"displayAfter\":500,\"dynamicLayout\":true}, null, null, $get(\"SearchResultsProgress\"));\n});\n//]]>\n</script>\n<span style=\"display: none !important;\"><input type=\"hidden\" name=\"__VIEWSTATE\" id=\"__VIEWSTATE\" value=\"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\"></span><span style=\"display: none !important;\"><input type=\"hidden\" name=\"__VIEWSTATEGENERATOR\" id=\"__VIEWSTATEGENERATOR\" value=\"7B70C614\"></span><span style=\"display: none !important;\"><input type=\"hidden\" name=\"__EVENTTARGET\" id=\"__EVENTTARGET\" value=\"\"></span><span style=\"display: none !important;\"><input type=\"hidden\" name=\"__EVENTARGUMENT\" id=\"__EVENTARGUMENT\" value=\"\"></span><span style=\"display: none !important;\"><input type=\"hidden\" name=\"__EVENTVALIDATION\" id=\"__EVENTVALIDATION\" value=\"pIHit60xKb2HOx4JhVp1VD2mHgaDoCjoRPw3azTtKm/O3zrpKtWfFNlMICHi8kgy616nRnztz9v9nFIYxHPxJksna67V6RI3tz7a32vsTydLW+eLD6bzXzmtD7MLhtPV1Ixd3mAJE6/ZuioRBp0A95NFwlYN926w1uj0qwK8mQ07OP3D/C2PIoEHhXXroTRrcmJ7MnV9hMBqN776FbKrghES947aG8c4SmcPympalyFJ+9pFsbCZyPUtLwlKuTfpNM263zgpmRFg6aSNigDJdb51LzYGYjNZNc0j75H3LAN0dEJKZMAtssUtTEMpv/HSm/lwx75uLFQOAVzQ/vB2lQ0bwkbogNDzUKF0MT8MHvSLxAaBT4hKPghNdACyJUyYmRkLiYZyYQmhyyDgolrTHqBNHnOSb1nW5ewGt16pw/cLZgve9gJjTfMLuqR3Jro8RmH8yD4w4AsTLoExevugnH1h26cIDz8z6ErrGqeQys7zyi7Hz5QzMxVpi0xYUKv/g/86RZ2b2wJ4cpr+vuzCn4YSdirLsZp3zc7nudgq4wtfiUfLdtdGbNSPSmuk7j7KdNqO/EZJhgzxWGlfM2rJ8641rTFy9PMonNNhnmuEy4h6/MtJqQVc87qqSjV5u8kLOWeIAh/9v/uKk8/meQUALXIraX0C0/taEReo7p6/xB352JoBhOWdmQDQ09tbcra/b9e2qGH3pTuVcMoZaqEO/39lTI8ItHqHyQoPUiExadg=\"></span></form><div class=\"modalMask\" style=\"display:none;\"></div>\n\n</body></html>\n"
    }
   ],
   "source": [
    "print(driver.page_source)"
   ]
  },
  {
   "cell_type": "code",
   "execution_count": 33,
   "metadata": {},
   "outputs": [
    {
     "output_type": "execute_result",
     "data": {
      "text/plain": "'RIDAGEMN'"
     },
     "metadata": {},
     "execution_count": 33
    }
   ],
   "source": [
    "table = driver.find_element_by_id('GridView1')\n",
    "# (table.text.split('\\n')[1]).split()\n",
    "rows = table.find_elements_by_tag_name('td')\n",
    "\n",
    "rows[0].text\n"
   ]
  },
  {
   "cell_type": "code",
   "execution_count": 34,
   "metadata": {},
   "outputs": [],
   "source": [
    "driver.close()"
   ]
  }
 ],
 "metadata": {
  "language_info": {
   "codemirror_mode": {
    "name": "ipython",
    "version": 3
   },
   "file_extension": ".py",
   "mimetype": "text/x-python",
   "name": "python",
   "nbconvert_exporter": "python",
   "pygments_lexer": "ipython3",
   "version": "3.7.4-final"
  },
  "orig_nbformat": 2,
  "kernelspec": {
   "name": "python37464bitab97954ecf8342d3b32df49191c738c9",
   "display_name": "Python 3.7.4 64-bit"
  }
 },
 "nbformat": 4,
 "nbformat_minor": 2
}